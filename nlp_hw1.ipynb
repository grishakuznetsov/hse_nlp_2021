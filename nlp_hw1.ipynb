{
  "nbformat": 4,
  "nbformat_minor": 0,
  "metadata": {
    "colab": {
      "name": "nlp_hw1.ipynb",
      "provenance": [],
      "collapsed_sections": []
    },
    "kernelspec": {
      "name": "python3",
      "display_name": "Python 3"
    },
    "language_info": {
      "name": "python"
    }
  },
  "cells": [
    {
      "cell_type": "markdown",
      "metadata": {
        "id": "lvCK15Ifh31G"
      },
      "source": [
        "# Импорты"
      ]
    },
    {
      "cell_type": "code",
      "metadata": {
        "colab": {
          "base_uri": "https://localhost:8080/"
        },
        "id": "p7AVI1nyhT2k",
        "outputId": "08e35b6e-5abb-4564-e181-add33844768c"
      },
      "source": [
        "!pip install pymorphy2"
      ],
      "execution_count": 1,
      "outputs": [
        {
          "output_type": "stream",
          "name": "stdout",
          "text": [
            "Requirement already satisfied: pymorphy2 in /usr/local/lib/python3.7/dist-packages (0.9.1)\n",
            "Requirement already satisfied: docopt>=0.6 in /usr/local/lib/python3.7/dist-packages (from pymorphy2) (0.6.2)\n",
            "Requirement already satisfied: pymorphy2-dicts-ru<3.0,>=2.4 in /usr/local/lib/python3.7/dist-packages (from pymorphy2) (2.4.417127.4579844)\n",
            "Requirement already satisfied: dawg-python>=0.7.1 in /usr/local/lib/python3.7/dist-packages (from pymorphy2) (0.7.2)\n"
          ]
        }
      ]
    },
    {
      "cell_type": "code",
      "metadata": {
        "colab": {
          "base_uri": "https://localhost:8080/"
        },
        "id": "1CdWEJAkrDJe",
        "outputId": "9713984d-c20a-4238-e92c-76db64d40ec6"
      },
      "source": [
        "!pip install python-rake"
      ],
      "execution_count": 2,
      "outputs": [
        {
          "output_type": "stream",
          "name": "stdout",
          "text": [
            "Requirement already satisfied: python-rake in /usr/local/lib/python3.7/dist-packages (1.5.0)\n"
          ]
        }
      ]
    },
    {
      "cell_type": "code",
      "metadata": {
        "colab": {
          "base_uri": "https://localhost:8080/"
        },
        "id": "Po2vpsELvTGv",
        "outputId": "2ca792a0-8f81-48cc-c16a-47ff8df9fdc7"
      },
      "source": [
        "!pip install summa"
      ],
      "execution_count": 3,
      "outputs": [
        {
          "output_type": "stream",
          "name": "stdout",
          "text": [
            "Requirement already satisfied: summa in /usr/local/lib/python3.7/dist-packages (1.2.0)\n",
            "Requirement already satisfied: scipy>=0.19 in /usr/local/lib/python3.7/dist-packages (from summa) (1.4.1)\n",
            "Requirement already satisfied: numpy>=1.13.3 in /usr/local/lib/python3.7/dist-packages (from scipy>=0.19->summa) (1.19.5)\n"
          ]
        }
      ]
    },
    {
      "cell_type": "code",
      "metadata": {
        "colab": {
          "base_uri": "https://localhost:8080/"
        },
        "id": "YERG1y-UGuPr",
        "outputId": "2b89c7ab-d580-41e7-b572-759830954a09"
      },
      "source": [
        "import pandas as pd\n",
        "import numpy as np\n",
        "from string import punctuation\n",
        "punctuation += '–—«»…'\n",
        "from nltk.corpus import stopwords\n",
        "\n",
        "\n",
        "import nltk\n",
        "nltk.download('stopwords')\n",
        "\n",
        "from pymorphy2 import MorphAnalyzer\n",
        "from pymorphy2.tokenizers import simple_word_tokenize\n",
        "m = MorphAnalyzer()\n",
        "\n",
        "import RAKE\n",
        "from summa import keywords\n",
        "from sklearn.feature_extraction.text import TfidfVectorizer"
      ],
      "execution_count": 4,
      "outputs": [
        {
          "output_type": "stream",
          "name": "stdout",
          "text": [
            "[nltk_data] Downloading package stopwords to /root/nltk_data...\n",
            "[nltk_data]   Package stopwords is already up-to-date!\n"
          ]
        }
      ]
    },
    {
      "cell_type": "markdown",
      "metadata": {
        "id": "4MI7oU_eg4ul"
      },
      "source": [
        "# Данные\n",
        "Я выбрал статьи с Naked science в качестве данных. Всего 11 статей из разных категорий. "
      ]
    },
    {
      "cell_type": "code",
      "metadata": {
        "id": "vnLXaXfYUR54"
      },
      "source": [
        "df = pd.read_csv('naked_science4.csv')"
      ],
      "execution_count": 5,
      "outputs": []
    },
    {
      "cell_type": "code",
      "metadata": {
        "colab": {
          "base_uri": "https://localhost:8080/",
          "height": 390
        },
        "id": "rn7Muc3RUpm_",
        "outputId": "b9306405-e809-4b6e-e5ef-17067ef2be41"
      },
      "source": [
        "df"
      ],
      "execution_count": 6,
      "outputs": [
        {
          "output_type": "execute_result",
          "data": {
            "text/html": [
              "<div>\n",
              "<style scoped>\n",
              "    .dataframe tbody tr th:only-of-type {\n",
              "        vertical-align: middle;\n",
              "    }\n",
              "\n",
              "    .dataframe tbody tr th {\n",
              "        vertical-align: top;\n",
              "    }\n",
              "\n",
              "    .dataframe thead th {\n",
              "        text-align: right;\n",
              "    }\n",
              "</style>\n",
              "<table border=\"1\" class=\"dataframe\">\n",
              "  <thead>\n",
              "    <tr style=\"text-align: right;\">\n",
              "      <th></th>\n",
              "      <th>text</th>\n",
              "      <th>original_keywords</th>\n",
              "      <th>my_keywords</th>\n",
              "    </tr>\n",
              "  </thead>\n",
              "  <tbody>\n",
              "    <tr>\n",
              "      <th>0</th>\n",
              "      <td>Исследователи из компании Valisure обнаружили ...</td>\n",
              "      <td>бензол, дезодорант, канцерогены, рак, химикаты</td>\n",
              "      <td>дезодорант, бензол, канцерогены</td>\n",
              "    </tr>\n",
              "    <tr>\n",
              "      <th>1</th>\n",
              "      <td>Международная группа нейробиологов обнаружила ...</td>\n",
              "      <td>акупунктура, иглоукалывание, надпочечники, ней...</td>\n",
              "      <td>иглоукалывание ,надпочечники, нейроны</td>\n",
              "    </tr>\n",
              "    <tr>\n",
              "      <th>2</th>\n",
              "      <td>Институт космического ведомства ЦНИИмаш заказа...</td>\n",
              "      <td>двигатели, многоразовая ракета, Роскосмос</td>\n",
              "      <td>двигатели, ракета, роскосмос, ступень</td>\n",
              "    </tr>\n",
              "    <tr>\n",
              "      <th>3</th>\n",
              "      <td>В составе твердых экзопланет доля железа может...</td>\n",
              "      <td>астрономия, металличность, экзопланеты</td>\n",
              "      <td>экзопланеты, железо, звезда</td>\n",
              "    </tr>\n",
              "    <tr>\n",
              "      <th>4</th>\n",
              "      <td>Ученые предложили метод, с помощью которого др...</td>\n",
              "      <td>древесина, нержавеющая сталь, целлюлоза</td>\n",
              "      <td>древесина, сталь, целлюлоза, нож</td>\n",
              "    </tr>\n",
              "    <tr>\n",
              "      <th>5</th>\n",
              "      <td>Российские ученые рассказали об одной из мощне...</td>\n",
              "      <td>Земля, магнитная буря, солнечная вспышка, Солнце</td>\n",
              "      <td>Земля, Солнце, магнитная буря, магнитное поле,...</td>\n",
              "    </tr>\n",
              "    <tr>\n",
              "      <th>6</th>\n",
              "      <td>Специалисты Красногорского завода им. С. А. Зв...</td>\n",
              "      <td>Зенит, прицел, снайперская винтовка, стрелково...</td>\n",
              "      <td>прицел, винтовка, снайперская винттовка, дальн...</td>\n",
              "    </tr>\n",
              "    <tr>\n",
              "      <th>7</th>\n",
              "      <td>Во всяком случае, это единственное имеющееся о...</td>\n",
              "      <td>акулы, биология, ихтиология, Рыбы</td>\n",
              "      <td>акулы, рыбы, шкура, акулья кожа, трение</td>\n",
              "    </tr>\n",
              "    <tr>\n",
              "      <th>8</th>\n",
              "      <td>Чтобы изучить строение тканей и органов живых ...</td>\n",
              "      <td>гистология, клетки, окрашивание, пурпур, эозин</td>\n",
              "      <td>гистология, красители, клетки, окрашивание, ткани</td>\n",
              "    </tr>\n",
              "    <tr>\n",
              "      <th>9</th>\n",
              "      <td>Анализ ДНК грызуна, типичного для Скандинавии,...</td>\n",
              "      <td>археология, викинги, донные отложения, колониз...</td>\n",
              "      <td>мыши, фекалии, архипелаг, острова, викинги</td>\n",
              "    </tr>\n",
              "    <tr>\n",
              "      <th>10</th>\n",
              "      <td>Марсианские метеориты известны давно, но, кром...</td>\n",
              "      <td>NASA, Австралия, искусс, исследование Марса, к...</td>\n",
              "      <td>Марс, метеориты, Земля, камни, кратеры</td>\n",
              "    </tr>\n",
              "  </tbody>\n",
              "</table>\n",
              "</div>"
            ],
            "text/plain": [
              "                                                 text  ...                                        my_keywords\n",
              "0   Исследователи из компании Valisure обнаружили ...  ...                   дезодорант, бензол, канцерогены \n",
              "1   Международная группа нейробиологов обнаружила ...  ...              иглоукалывание ,надпочечники, нейроны\n",
              "2   Институт космического ведомства ЦНИИмаш заказа...  ...             двигатели, ракета, роскосмос, ступень \n",
              "3   В составе твердых экзопланет доля железа может...  ...                        экзопланеты, железо, звезда\n",
              "4   Ученые предложили метод, с помощью которого др...  ...                   древесина, сталь, целлюлоза, нож\n",
              "5   Российские ученые рассказали об одной из мощне...  ...  Земля, Солнце, магнитная буря, магнитное поле,...\n",
              "6   Специалисты Красногорского завода им. С. А. Зв...  ...  прицел, винтовка, снайперская винттовка, дальн...\n",
              "7   Во всяком случае, это единственное имеющееся о...  ...            акулы, рыбы, шкура, акулья кожа, трение\n",
              "8   Чтобы изучить строение тканей и органов живых ...  ...  гистология, красители, клетки, окрашивание, ткани\n",
              "9   Анализ ДНК грызуна, типичного для Скандинавии,...  ...         мыши, фекалии, архипелаг, острова, викинги\n",
              "10  Марсианские метеориты известны давно, но, кром...  ...             Марс, метеориты, Земля, камни, кратеры\n",
              "\n",
              "[11 rows x 3 columns]"
            ]
          },
          "metadata": {},
          "execution_count": 6
        }
      ]
    },
    {
      "cell_type": "markdown",
      "metadata": {
        "id": "75nqXicJhMFX"
      },
      "source": [
        "Пересечение слишком маленькое, решил взять оббъединение"
      ]
    },
    {
      "cell_type": "code",
      "metadata": {
        "colab": {
          "base_uri": "https://localhost:8080/"
        },
        "id": "C4ZsgVOvUU_t",
        "outputId": "00adf640-1319-4280-c028-dabd3b45975b"
      },
      "source": [
        "[list(set(df.original_keywords[i].split(', ')) & set(df.my_keywords[i].split(', '))) for i in range(len(df))]"
      ],
      "execution_count": 7,
      "outputs": [
        {
          "output_type": "execute_result",
          "data": {
            "text/plain": [
              "[['дезодорант', 'бензол'],\n",
              " ['нейроны'],\n",
              " ['двигатели'],\n",
              " ['экзопланеты'],\n",
              " ['древесина', 'целлюлоза'],\n",
              " ['Земля', 'Солнце', 'магнитная буря'],\n",
              " ['прицел'],\n",
              " ['акулы'],\n",
              " ['окрашивание', 'клетки', 'гистология'],\n",
              " ['фекалии', 'викинги', 'мыши'],\n",
              " ['Марс', 'метеориты', 'кратеры']]"
            ]
          },
          "metadata": {},
          "execution_count": 7
        }
      ]
    },
    {
      "cell_type": "code",
      "metadata": {
        "colab": {
          "base_uri": "https://localhost:8080/"
        },
        "id": "4HbnYy3KUoUp",
        "outputId": "4ad2bcc4-1b8c-42f6-b6b1-01dc4522a595"
      },
      "source": [
        "union = [list(set(df.original_keywords[i].split(', ')) | set(df.my_keywords[i].split(', '))) for i in range(len(df))]\n",
        "df['golden'] = [', '.join(k) for k in union]\n",
        "union"
      ],
      "execution_count": 8,
      "outputs": [
        {
          "output_type": "execute_result",
          "data": {
            "text/plain": [
              "[['канцерогены ', 'рак', 'химикаты', 'дезодорант', 'канцерогены', 'бензол'],\n",
              " ['иглоукалывание',\n",
              "  'акупунктура',\n",
              "  'надпочечники',\n",
              "  'цитокиновый шторм',\n",
              "  'нейроны',\n",
              "  'иглоукалывание ,надпочечники'],\n",
              " ['ракета',\n",
              "  'многоразовая ракета',\n",
              "  'Роскосмос',\n",
              "  'ступень ',\n",
              "  'роскосмос',\n",
              "  'двигатели'],\n",
              " ['астрономия', 'металличность', 'железо', 'экзопланеты', 'звезда'],\n",
              " ['древесина', 'нож', 'целлюлоза', 'сталь', 'нержавеющая сталь'],\n",
              " ['Земля',\n",
              "  'Солнце',\n",
              "  'вспышка',\n",
              "  'магнитное поле',\n",
              "  'солнечная вспышка',\n",
              "  'солнечная активность',\n",
              "  'магнитная буря'],\n",
              " ['винтовка',\n",
              "  'снайперское оружие',\n",
              "  'стрелковое оружие',\n",
              "  'снайперская винттовка',\n",
              "  'дальность',\n",
              "  'прицел',\n",
              "  'снайперская винтовка',\n",
              "  'Зенит'],\n",
              " ['Рыбы',\n",
              "  'акулы',\n",
              "  'акулья кожа',\n",
              "  'трение',\n",
              "  'ихтиология',\n",
              "  'рыбы',\n",
              "  'шкура',\n",
              "  'биология'],\n",
              " ['клетки',\n",
              "  'пурпур',\n",
              "  'красители',\n",
              "  'гистология',\n",
              "  'ткани',\n",
              "  'окрашивание',\n",
              "  'эозин'],\n",
              " ['фекалии',\n",
              "  'мыши',\n",
              "  'колонизация',\n",
              "  'археология',\n",
              "  'острова',\n",
              "  'викинги',\n",
              "  'архипелаг',\n",
              "  'донные отложения'],\n",
              " ['Австралия',\n",
              "  'исследование Марса',\n",
              "  'искусс',\n",
              "  'метеориты',\n",
              "  'кратеры',\n",
              "  'Марс',\n",
              "  'нейросети',\n",
              "  'космогеология',\n",
              "  'камни',\n",
              "  'поверхность марса',\n",
              "  'NASA',\n",
              "  'Земля']]"
            ]
          },
          "metadata": {},
          "execution_count": 8
        }
      ]
    },
    {
      "cell_type": "code",
      "metadata": {
        "id": "KP57IIPwtgPZ"
      },
      "source": [
        "def normalize_text(text):\n",
        "  for p in punctuation:\n",
        "    text = text.replace(p, '')\n",
        "  lemmas = []\n",
        "  for t in simple_word_tokenize(text):\n",
        "      lemmas.append(\n",
        "          m.parse(t)[0].normal_form\n",
        "      )\n",
        "  return ' '.join(lemmas)"
      ],
      "execution_count": 9,
      "outputs": []
    },
    {
      "cell_type": "code",
      "metadata": {
        "id": "5jriE81aUyT7"
      },
      "source": [
        "df['text'] = df['text'].apply(normalize_text)"
      ],
      "execution_count": 10,
      "outputs": []
    },
    {
      "cell_type": "code",
      "metadata": {
        "colab": {
          "base_uri": "https://localhost:8080/",
          "height": 390
        },
        "id": "BZT9QCxptz9X",
        "outputId": "4f16dc8f-5172-4dc3-d830-c8c50ac10704"
      },
      "source": [
        "df"
      ],
      "execution_count": 11,
      "outputs": [
        {
          "output_type": "execute_result",
          "data": {
            "text/html": [
              "<div>\n",
              "<style scoped>\n",
              "    .dataframe tbody tr th:only-of-type {\n",
              "        vertical-align: middle;\n",
              "    }\n",
              "\n",
              "    .dataframe tbody tr th {\n",
              "        vertical-align: top;\n",
              "    }\n",
              "\n",
              "    .dataframe thead th {\n",
              "        text-align: right;\n",
              "    }\n",
              "</style>\n",
              "<table border=\"1\" class=\"dataframe\">\n",
              "  <thead>\n",
              "    <tr style=\"text-align: right;\">\n",
              "      <th></th>\n",
              "      <th>text</th>\n",
              "      <th>original_keywords</th>\n",
              "      <th>my_keywords</th>\n",
              "      <th>golden</th>\n",
              "    </tr>\n",
              "  </thead>\n",
              "  <tbody>\n",
              "    <tr>\n",
              "      <th>0</th>\n",
              "      <td>исследователь из компания valisure обнаружить ...</td>\n",
              "      <td>бензол, дезодорант, канцерогены, рак, химикаты</td>\n",
              "      <td>дезодорант, бензол, канцерогены</td>\n",
              "      <td>канцерогены , рак, химикаты, дезодорант, канце...</td>\n",
              "    </tr>\n",
              "    <tr>\n",
              "      <th>1</th>\n",
              "      <td>международный группа нейробиолог обнаружить ме...</td>\n",
              "      <td>акупунктура, иглоукалывание, надпочечники, ней...</td>\n",
              "      <td>иглоукалывание ,надпочечники, нейроны</td>\n",
              "      <td>иглоукалывание, акупунктура, надпочечники, цит...</td>\n",
              "    </tr>\n",
              "    <tr>\n",
              "      <th>2</th>\n",
              "      <td>институт космический ведомство цниимаш заказат...</td>\n",
              "      <td>двигатели, многоразовая ракета, Роскосмос</td>\n",
              "      <td>двигатели, ракета, роскосмос, ступень</td>\n",
              "      <td>ракета, многоразовая ракета, Роскосмос, ступен...</td>\n",
              "    </tr>\n",
              "    <tr>\n",
              "      <th>3</th>\n",
              "      <td>в состав твёрдый экзопланета доля железо мочь ...</td>\n",
              "      <td>астрономия, металличность, экзопланеты</td>\n",
              "      <td>экзопланеты, железо, звезда</td>\n",
              "      <td>астрономия, металличность, железо, экзопланеты...</td>\n",
              "    </tr>\n",
              "    <tr>\n",
              "      <th>4</th>\n",
              "      <td>учёный предложить метод с помощь который древе...</td>\n",
              "      <td>древесина, нержавеющая сталь, целлюлоза</td>\n",
              "      <td>древесина, сталь, целлюлоза, нож</td>\n",
              "      <td>древесина, нож, целлюлоза, сталь, нержавеющая ...</td>\n",
              "    </tr>\n",
              "    <tr>\n",
              "      <th>5</th>\n",
              "      <td>российский учёный рассказать о один из мощный ...</td>\n",
              "      <td>Земля, магнитная буря, солнечная вспышка, Солнце</td>\n",
              "      <td>Земля, Солнце, магнитная буря, магнитное поле,...</td>\n",
              "      <td>Земля, Солнце, вспышка, магнитное поле, солнеч...</td>\n",
              "    </tr>\n",
              "    <tr>\n",
              "      <th>6</th>\n",
              "      <td>специалист красногорский завод они с а зверев ...</td>\n",
              "      <td>Зенит, прицел, снайперская винтовка, стрелково...</td>\n",
              "      <td>прицел, винтовка, снайперская винттовка, дальн...</td>\n",
              "      <td>винтовка, снайперское оружие, стрелковое оружи...</td>\n",
              "    </tr>\n",
              "    <tr>\n",
              "      <th>7</th>\n",
              "      <td>в всякий случай это единственный иметься объяс...</td>\n",
              "      <td>акулы, биология, ихтиология, Рыбы</td>\n",
              "      <td>акулы, рыбы, шкура, акулья кожа, трение</td>\n",
              "      <td>Рыбы, акулы, акулья кожа, трение, ихтиология, ...</td>\n",
              "    </tr>\n",
              "    <tr>\n",
              "      <th>8</th>\n",
              "      <td>чтобы изучить строение ткань и орган живой орг...</td>\n",
              "      <td>гистология, клетки, окрашивание, пурпур, эозин</td>\n",
              "      <td>гистология, красители, клетки, окрашивание, ткани</td>\n",
              "      <td>клетки, пурпур, красители, гистология, ткани, ...</td>\n",
              "    </tr>\n",
              "    <tr>\n",
              "      <th>9</th>\n",
              "      <td>анализ днк грызун типичный для скандинавия пок...</td>\n",
              "      <td>археология, викинги, донные отложения, колониз...</td>\n",
              "      <td>мыши, фекалии, архипелаг, острова, викинги</td>\n",
              "      <td>фекалии, мыши, колонизация, археология, остров...</td>\n",
              "    </tr>\n",
              "    <tr>\n",
              "      <th>10</th>\n",
              "      <td>марсианский метеорит известный давно но кроме ...</td>\n",
              "      <td>NASA, Австралия, искусс, исследование Марса, к...</td>\n",
              "      <td>Марс, метеориты, Земля, камни, кратеры</td>\n",
              "      <td>Австралия, исследование Марса, искусс, метеори...</td>\n",
              "    </tr>\n",
              "  </tbody>\n",
              "</table>\n",
              "</div>"
            ],
            "text/plain": [
              "                                                 text  ...                                             golden\n",
              "0   исследователь из компания valisure обнаружить ...  ...  канцерогены , рак, химикаты, дезодорант, канце...\n",
              "1   международный группа нейробиолог обнаружить ме...  ...  иглоукалывание, акупунктура, надпочечники, цит...\n",
              "2   институт космический ведомство цниимаш заказат...  ...  ракета, многоразовая ракета, Роскосмос, ступен...\n",
              "3   в состав твёрдый экзопланета доля железо мочь ...  ...  астрономия, металличность, железо, экзопланеты...\n",
              "4   учёный предложить метод с помощь который древе...  ...  древесина, нож, целлюлоза, сталь, нержавеющая ...\n",
              "5   российский учёный рассказать о один из мощный ...  ...  Земля, Солнце, вспышка, магнитное поле, солнеч...\n",
              "6   специалист красногорский завод они с а зверев ...  ...  винтовка, снайперское оружие, стрелковое оружи...\n",
              "7   в всякий случай это единственный иметься объяс...  ...  Рыбы, акулы, акулья кожа, трение, ихтиология, ...\n",
              "8   чтобы изучить строение ткань и орган живой орг...  ...  клетки, пурпур, красители, гистология, ткани, ...\n",
              "9   анализ днк грызун типичный для скандинавия пок...  ...  фекалии, мыши, колонизация, археология, остров...\n",
              "10  марсианский метеорит известный давно но кроме ...  ...  Австралия, исследование Марса, искусс, метеори...\n",
              "\n",
              "[11 rows x 4 columns]"
            ]
          },
          "metadata": {},
          "execution_count": 11
        }
      ]
    },
    {
      "cell_type": "code",
      "metadata": {
        "colab": {
          "base_uri": "https://localhost:8080/"
        },
        "id": "xllsHFlFhxfR",
        "outputId": "f4ac0d32-d2fb-445d-e76b-1878efc1992b"
      },
      "source": [
        "c = 0\n",
        "for i in df['text'].to_list():\n",
        "  c += len(i.split())\n",
        "c"
      ],
      "execution_count": 12,
      "outputs": [
        {
          "output_type": "execute_result",
          "data": {
            "text/plain": [
              "5461"
            ]
          },
          "metadata": {},
          "execution_count": 12
        }
      ]
    },
    {
      "cell_type": "markdown",
      "metadata": {
        "id": "cPnsTLXXhSsS"
      },
      "source": [
        "Слово \"это\" решил убрать, так как мешается"
      ]
    },
    {
      "cell_type": "code",
      "metadata": {
        "id": "oV1H9wyaqkOQ"
      },
      "source": [
        "stop = stopwords.words('russian')\n",
        "stop.append('это')"
      ],
      "execution_count": 13,
      "outputs": []
    },
    {
      "cell_type": "markdown",
      "metadata": {
        "id": "MBvezHkUha1J"
      },
      "source": [
        "# Методы\n",
        "Я выбрал rake textrank и tf--idf"
      ]
    },
    {
      "cell_type": "code",
      "metadata": {
        "id": "6n_3dq7qrZOI"
      },
      "source": [
        "rake = RAKE.Rake(stop)\n",
        "\n",
        "rake_kw = []\n",
        "for i in range(len(df)):\n",
        "  kw_line = []\n",
        "  for kw in rake.run(df['text'][i], maxWords=3, minFrequency=1):\n",
        "    kw_line.append(kw[0])\n",
        "  rake_kw.append(', '.join(kw_line))\n",
        "\n",
        "df['rake_kw'] = rake_kw"
      ],
      "execution_count": 14,
      "outputs": []
    },
    {
      "cell_type": "code",
      "metadata": {
        "id": "I_4bpMbQvdXJ"
      },
      "source": [
        "textrank_kw = []\n",
        "for i in range(len(df)):\n",
        "  kw_line = []\n",
        "  for kw in keywords.keywords(df['text'][i], language='russian', additional_stopwords=stop, scores=True):\n",
        "    kw_line.append(kw[0])\n",
        "  textrank_kw.append(', '.join(kw_line))\n",
        "\n",
        "df['textrank_kw'] = textrank_kw"
      ],
      "execution_count": 15,
      "outputs": []
    },
    {
      "cell_type": "code",
      "metadata": {
        "id": "83R-zbWbylz-"
      },
      "source": [
        "vectorizer = TfidfVectorizer(stop_words=stop)\n",
        "\n",
        "tfiidf_kw = []\n",
        "for i in range(len(df)):\n",
        "  kw_line = []\n",
        "  X = vectorizer.fit_transform([df['text'][i]])\n",
        "  feature_names = np.array(vectorizer.get_feature_names())\n",
        "  words = np.array(X.todense()).argsort()[0]\n",
        "  tfiidf_kw.append(', '.join(feature_names[words[::-1][:20]]))\n",
        "\n",
        "df['tfidf_kw'] = tfiidf_kw"
      ],
      "execution_count": 16,
      "outputs": []
    },
    {
      "cell_type": "code",
      "metadata": {
        "colab": {
          "base_uri": "https://localhost:8080/",
          "height": 747
        },
        "id": "voH1XjmBzbie",
        "outputId": "08caddf3-5bec-4f62-c07b-bae86406f41e"
      },
      "source": [
        "df"
      ],
      "execution_count": 17,
      "outputs": [
        {
          "output_type": "execute_result",
          "data": {
            "text/html": [
              "<div>\n",
              "<style scoped>\n",
              "    .dataframe tbody tr th:only-of-type {\n",
              "        vertical-align: middle;\n",
              "    }\n",
              "\n",
              "    .dataframe tbody tr th {\n",
              "        vertical-align: top;\n",
              "    }\n",
              "\n",
              "    .dataframe thead th {\n",
              "        text-align: right;\n",
              "    }\n",
              "</style>\n",
              "<table border=\"1\" class=\"dataframe\">\n",
              "  <thead>\n",
              "    <tr style=\"text-align: right;\">\n",
              "      <th></th>\n",
              "      <th>text</th>\n",
              "      <th>original_keywords</th>\n",
              "      <th>my_keywords</th>\n",
              "      <th>golden</th>\n",
              "      <th>rake_kw</th>\n",
              "      <th>textrank_kw</th>\n",
              "      <th>tfidf_kw</th>\n",
              "    </tr>\n",
              "  </thead>\n",
              "  <tbody>\n",
              "    <tr>\n",
              "      <th>0</th>\n",
              "      <td>исследователь из компания valisure обнаружить ...</td>\n",
              "      <td>бензол, дезодорант, канцерогены, рак, химикаты</td>\n",
              "      <td>дезодорант, бензол, канцерогены</td>\n",
              "      <td>канцерогены , рак, химикаты, дезодорант, канце...</td>\n",
              "      <td>некоторый случай достигать, превышать норма fd...</td>\n",
              "      <td>высокий уровень бензол, valisure, партия, s, к...</td>\n",
              "      <td>бензол, ppm, уровень, партия, часть, valisure,...</td>\n",
              "    </tr>\n",
              "    <tr>\n",
              "      <th>1</th>\n",
              "      <td>международный группа нейробиолог обнаружить ме...</td>\n",
              "      <td>акупунктура, иглоукалывание, надпочечники, ней...</td>\n",
              "      <td>иглоукалывание ,надпочечники, нейроны</td>\n",
              "      <td>иглоукалывание, акупунктура, надпочечники, цит...</td>\n",
              "      <td>действенный правда лишь, определённый зона тел...</td>\n",
              "      <td>который, учёный, год, действие, работа, сенсор...</td>\n",
              "      <td>нейрон, который, задний, учёный, иглоукалывани...</td>\n",
              "    </tr>\n",
              "    <tr>\n",
              "      <th>2</th>\n",
              "      <td>институт космический ведомство цниимаш заказат...</td>\n",
              "      <td>двигатели, многоразовая ракета, Роскосмос</td>\n",
              "      <td>двигатели, ракета, роскосмос, ступень</td>\n",
              "      <td>ракета, многоразовая ракета, Роскосмос, ступен...</td>\n",
              "      <td>реактивный двигатель активироваться, готовый м...</td>\n",
              "      <td>демонстратор многоразовый ракета, крылатый сту...</td>\n",
              "      <td>многоразовый, ступень, ракета, год, крылатый, ...</td>\n",
              "    </tr>\n",
              "    <tr>\n",
              "      <th>3</th>\n",
              "      <td>в состав твёрдый экзопланета доля железо мочь ...</td>\n",
              "      <td>астрономия, металличность, экзопланеты</td>\n",
              "      <td>экзопланеты, железо, звезда</td>\n",
              "      <td>астрономия, металличность, железо, экзопланеты...</td>\n",
              "      <td>довольно давно подметить, целое однако исследо...</td>\n",
              "      <td>планета, звезда, экзопланета, железо мочь, авт...</td>\n",
              "      <td>состав, звезда, планета, железо, экзопланета, ...</td>\n",
              "    </tr>\n",
              "    <tr>\n",
              "      <th>4</th>\n",
              "      <td>учёный предложить метод с помощь который древе...</td>\n",
              "      <td>древесина, нержавеющая сталь, целлюлоза</td>\n",
              "      <td>древесина, сталь, целлюлоза, нож</td>\n",
              "      <td>древесина, нож, целлюлоза, сталь, нержавеющая ...</td>\n",
              "      <td>часто негативно воздействовать, придание желае...</td>\n",
              "      <td>древесина, нож, высокий, способ, предложить ме...</td>\n",
              "      <td>древесина, нож, острый, материал, предложить, ...</td>\n",
              "    </tr>\n",
              "    <tr>\n",
              "      <th>5</th>\n",
              "      <td>российский учёный рассказать о один из мощный ...</td>\n",
              "      <td>Земля, магнитная буря, солнечная вспышка, Солнце</td>\n",
              "      <td>Земля, Солнце, магнитная буря, магнитное поле,...</td>\n",
              "      <td>Земля, Солнце, вспышка, магнитное поле, солнеч...</td>\n",
              "      <td>мощный магнитный буря, полуночь скачок увеличи...</td>\n",
              "      <td>солнечный, вспышка, солнце, земля, магнитная б...</td>\n",
              "      <td>вспышка, земля, солнечный, максимальный, учёны...</td>\n",
              "    </tr>\n",
              "    <tr>\n",
              "      <th>6</th>\n",
              "      <td>специалист красногорский завод они с а зверев ...</td>\n",
              "      <td>Зенит, прицел, снайперская винтовка, стрелково...</td>\n",
              "      <td>прицел, винтовка, снайперская винттовка, дальн...</td>\n",
              "      <td>винтовка, снайперское оружие, стрелковое оружи...</td>\n",
              "      <td>специалист красногорский завод, торговый марка...</td>\n",
              "      <td>новый снайперский прицел, кмз, позволять, год,...</td>\n",
              "      <td>прицел, новый, снайперский, винтовка, свч, поз...</td>\n",
              "    </tr>\n",
              "    <tr>\n",
              "      <th>7</th>\n",
              "      <td>в всякий случай это единственный иметься объяс...</td>\n",
              "      <td>акулы, биология, ихтиология, Рыбы</td>\n",
              "      <td>акулы, рыбы, шкура, акулья кожа, трение</td>\n",
              "      <td>Рыбы, акулы, акулья кожа, трение, ихтиология, ...</td>\n",
              "      <td>единственный иметься объяснение, журнал ecolog...</td>\n",
              "      <td>акула, рыбий, свойство акулий кожа, вид рыба, ...</td>\n",
              "      <td>акула, рыба, тереться, зуб, кожа, вид, трение,...</td>\n",
              "    </tr>\n",
              "    <tr>\n",
              "      <th>8</th>\n",
              "      <td>чтобы изучить строение ткань и орган живой орг...</td>\n",
              "      <td>гистология, клетки, окрашивание, пурпур, эозин</td>\n",
              "      <td>гистология, красители, клетки, окрашивание, ткани</td>\n",
              "      <td>клетки, пурпур, красители, гистология, ткани, ...</td>\n",
              "      <td>изучить строение ткань, невозможно различить к...</td>\n",
              "      <td>гистолог, краситель гистология, клетка, препар...</td>\n",
              "      <td>ткань, гистолог, цвет, срез, краситель, ядро, ...</td>\n",
              "    </tr>\n",
              "    <tr>\n",
              "      <th>9</th>\n",
              "      <td>анализ днк грызун типичный для скандинавия пок...</td>\n",
              "      <td>археология, викинги, донные отложения, колониз...</td>\n",
              "      <td>мыши, фекалии, архипелаг, острова, викинги</td>\n",
              "      <td>фекалии, мыши, колонизация, археология, остров...</td>\n",
              "      <td>клад якобы обнаружить, карман местный житель, ...</td>\n",
              "      <td>мышь, викинг, стать, статья, место, который, ч...</td>\n",
              "      <td>остров, мышь, викинг, азорский, место, год, ар...</td>\n",
              "    </tr>\n",
              "    <tr>\n",
              "      <th>10</th>\n",
              "      <td>марсианский метеорит известный давно но кроме ...</td>\n",
              "      <td>NASA, Австралия, искусс, исследование Марса, к...</td>\n",
              "      <td>Марс, метеориты, Земля, камни, кратеры</td>\n",
              "      <td>Австралия, исследование Марса, искусс, метеори...</td>\n",
              "      <td>кроме общий сведение, непонятно откуда конкрет...</td>\n",
              "      <td>кратер, марсианский метеорит, марс, геологичес...</td>\n",
              "      <td>кратер, марсианский, метеорит, год, планета, м...</td>\n",
              "    </tr>\n",
              "  </tbody>\n",
              "</table>\n",
              "</div>"
            ],
            "text/plain": [
              "                                                 text  ...                                           tfidf_kw\n",
              "0   исследователь из компания valisure обнаружить ...  ...  бензол, ppm, уровень, партия, часть, valisure,...\n",
              "1   международный группа нейробиолог обнаружить ме...  ...  нейрон, который, задний, учёный, иглоукалывани...\n",
              "2   институт космический ведомство цниимаш заказат...  ...  многоразовый, ступень, ракета, год, крылатый, ...\n",
              "3   в состав твёрдый экзопланета доля железо мочь ...  ...  состав, звезда, планета, железо, экзопланета, ...\n",
              "4   учёный предложить метод с помощь который древе...  ...  древесина, нож, острый, материал, предложить, ...\n",
              "5   российский учёный рассказать о один из мощный ...  ...  вспышка, земля, солнечный, максимальный, учёны...\n",
              "6   специалист красногорский завод они с а зверев ...  ...  прицел, новый, снайперский, винтовка, свч, поз...\n",
              "7   в всякий случай это единственный иметься объяс...  ...  акула, рыба, тереться, зуб, кожа, вид, трение,...\n",
              "8   чтобы изучить строение ткань и орган живой орг...  ...  ткань, гистолог, цвет, срез, краситель, ядро, ...\n",
              "9   анализ днк грызун типичный для скандинавия пок...  ...  остров, мышь, викинг, азорский, место, год, ар...\n",
              "10  марсианский метеорит известный давно но кроме ...  ...  кратер, марсианский, метеорит, год, планета, м...\n",
              "\n",
              "[11 rows x 7 columns]"
            ]
          },
          "metadata": {},
          "execution_count": 17
        }
      ]
    },
    {
      "cell_type": "markdown",
      "metadata": {
        "id": "5PJNjTUZhk3O"
      },
      "source": [
        "# Шаблоны\n",
        "Посмотрим на прил+сущ, сущ+сущ и суш+глагол"
      ]
    },
    {
      "cell_type": "code",
      "metadata": {
        "id": "zaKL7cMHFqcY"
      },
      "source": [
        "templates = [['NOUN'], ['ADJF', 'NOUN'], ['NOUN', 'NOUN'], ['NOUN', 'VERB']]"
      ],
      "execution_count": 18,
      "outputs": []
    },
    {
      "cell_type": "code",
      "metadata": {
        "id": "RnKN8et3IGIW"
      },
      "source": [
        "def template(keywords):\n",
        "  all_pos = []\n",
        "  output = []\n",
        "  keywords = keywords.split(', ')\n",
        "  for kw in keywords:\n",
        "    pos = []\n",
        "    for w in kw.split():\n",
        "      pos.append(morph.parse(w)[0].tag.POS)\n",
        "    all_pos.append((pos))\n",
        "  for i, kw in enumerate(keywords):\n",
        "    if all_pos[i] in templates:\n",
        "      output.append(kw)\n",
        "  return output"
      ],
      "execution_count": 19,
      "outputs": []
    },
    {
      "cell_type": "code",
      "metadata": {
        "id": "yIjAV_h8Fjve"
      },
      "source": [
        "for i in ['rake_kw', 'textrank_kw', 'tfidf_kw']:\n",
        "  df[f'{i}_pos'] = df[i].apply(template)\n",
        "\n",
        "df['golden_pos'] = df['golden'].apply(template)"
      ],
      "execution_count": 20,
      "outputs": []
    },
    {
      "cell_type": "code",
      "metadata": {
        "id": "XhQY-RonN8G2"
      },
      "source": [
        "for i in ['original_keywords',\t'my_keywords',\t'golden', 'rake_kw',\t'textrank_kw',\t'tfidf_kw']:\n",
        "  df[i] = df[i].apply(normalize_text).apply(str.split)"
      ],
      "execution_count": 21,
      "outputs": []
    },
    {
      "cell_type": "code",
      "metadata": {
        "colab": {
          "base_uri": "https://localhost:8080/",
          "height": 1000
        },
        "id": "7aE_hxGvNeFn",
        "outputId": "adb39d7d-ebb9-4c90-f3bc-76a2c68adc06"
      },
      "source": [
        "df"
      ],
      "execution_count": 22,
      "outputs": [
        {
          "output_type": "execute_result",
          "data": {
            "text/html": [
              "<div>\n",
              "<style scoped>\n",
              "    .dataframe tbody tr th:only-of-type {\n",
              "        vertical-align: middle;\n",
              "    }\n",
              "\n",
              "    .dataframe tbody tr th {\n",
              "        vertical-align: top;\n",
              "    }\n",
              "\n",
              "    .dataframe thead th {\n",
              "        text-align: right;\n",
              "    }\n",
              "</style>\n",
              "<table border=\"1\" class=\"dataframe\">\n",
              "  <thead>\n",
              "    <tr style=\"text-align: right;\">\n",
              "      <th></th>\n",
              "      <th>text</th>\n",
              "      <th>original_keywords</th>\n",
              "      <th>my_keywords</th>\n",
              "      <th>golden</th>\n",
              "      <th>rake_kw</th>\n",
              "      <th>textrank_kw</th>\n",
              "      <th>tfidf_kw</th>\n",
              "      <th>rake_kw_pos</th>\n",
              "      <th>textrank_kw_pos</th>\n",
              "      <th>tfidf_kw_pos</th>\n",
              "      <th>golden_pos</th>\n",
              "    </tr>\n",
              "  </thead>\n",
              "  <tbody>\n",
              "    <tr>\n",
              "      <th>0</th>\n",
              "      <td>исследователь из компания valisure обнаружить ...</td>\n",
              "      <td>[бензол, дезодорант, канцероген, рак, химикат]</td>\n",
              "      <td>[дезодорант, бензол, канцероген]</td>\n",
              "      <td>[канцероген, рак, химикат, дезодорант, канцеро...</td>\n",
              "      <td>[некоторый, случай, достигать, превышать, норм...</td>\n",
              "      <td>[высокий, уровень, бензол, valisure, партия, s...</td>\n",
              "      <td>[бензол, ppm, уровень, партия, часть, valisure...</td>\n",
              "      <td>[бензол уровень, бутан пропан, большой время, ...</td>\n",
              "      <td>[партия, бренд, средство, риск, химический вещ...</td>\n",
              "      <td>[бензол, уровень, партия, часть, вещество, сре...</td>\n",
              "      <td>[канцерогены , рак, химикаты, дезодорант, канц...</td>\n",
              "    </tr>\n",
              "    <tr>\n",
              "      <th>1</th>\n",
              "      <td>международный группа нейробиолог обнаружить ме...</td>\n",
              "      <td>[акупунктура, иглоукалывание, надпочечник, ней...</td>\n",
              "      <td>[иглоукалывание, надпочечник, нейрон]</td>\n",
              "      <td>[иглоукалывание, акупунктура, надпочечник, цит...</td>\n",
              "      <td>[действенный, правда, лишь, определённый, зона...</td>\n",
              "      <td>[который, учёный, год, действие, работа, сенсо...</td>\n",
              "      <td>[нейрон, который, задний, учёный, иглоукалыван...</td>\n",
              "      <td>[район живот, фасция живот, иглоукалывание моч...</td>\n",
              "      <td>[учёный, год, действие, работа, сенсорный нейр...</td>\n",
              "      <td>[нейрон, учёный, иглоукалывание, электроакупун...</td>\n",
              "      <td>[иглоукалывание, акупунктура, надпочечники, ци...</td>\n",
              "    </tr>\n",
              "    <tr>\n",
              "      <th>2</th>\n",
              "      <td>институт космический ведомство цниимаш заказат...</td>\n",
              "      <td>[двигатель, многоразовый, ракета, роскосмос]</td>\n",
              "      <td>[двигатель, ракета, роскосмос, ступень]</td>\n",
              "      <td>[ракета, многоразовый, ракета, роскосмос, ступ...</td>\n",
              "      <td>[реактивный, двигатель, активироваться, готовы...</td>\n",
              "      <td>[демонстратор, многоразовый, ракета, крылатый,...</td>\n",
              "      <td>[многоразовый, ступень, ракета, год, крылатый,...</td>\n",
              "      <td>[будущий испытание, м мясищев, выход ракета, с...</td>\n",
              "      <td>[двигатель, год, создание, ведомство, крыло, в...</td>\n",
              "      <td>[ступень, ракета, год, двигатель, проект, демо...</td>\n",
              "      <td>[ракета, многоразовая ракета, Роскосмос, ступе...</td>\n",
              "    </tr>\n",
              "    <tr>\n",
              "      <th>3</th>\n",
              "      <td>в состав твёрдый экзопланета доля железо мочь ...</td>\n",
              "      <td>[астрономия, металличность, экзопланета]</td>\n",
              "      <td>[экзопланета, железо, звезда]</td>\n",
              "      <td>[астрономия, металличность, железо, экзопланет...</td>\n",
              "      <td>[довольно, давно, подметить, целое, однако, ис...</td>\n",
              "      <td>[планета, звезда, экзопланета, железо, мочь, а...</td>\n",
              "      <td>[состав, звезда, планета, железо, экзопланета,...</td>\n",
              "      <td>[чей спектр, потенциальный интересность, некот...</td>\n",
              "      <td>[планета, звезда, экзопланета, железо мочь, ав...</td>\n",
              "      <td>[состав, звезда, планета, железо, экзопланета,...</td>\n",
              "      <td>[астрономия, металличность, железо, экзопланет...</td>\n",
              "    </tr>\n",
              "    <tr>\n",
              "      <th>4</th>\n",
              "      <td>учёный предложить метод с помощь который древе...</td>\n",
              "      <td>[древесина, нержавеющий, сталь, целлюлоза]</td>\n",
              "      <td>[древесина, сталь, целлюлоза, нож]</td>\n",
              "      <td>[древесина, нож, целлюлоза, сталь, нержавеющий...</td>\n",
              "      <td>[часто, негативно, воздействовать, придание, ж...</td>\n",
              "      <td>[древесина, нож, высокий, способ, предложить, ...</td>\n",
              "      <td>[древесина, нож, острый, материал, предложить,...</td>\n",
              "      <td>[столовый нож, метод древесина, прочный учёный...</td>\n",
              "      <td>[древесина, нож, способ, этап, вода, целлюлоза...</td>\n",
              "      <td>[древесина, нож, материал, этап, метод, произв...</td>\n",
              "      <td>[древесина, нож, целлюлоза, сталь, нержавеющая...</td>\n",
              "    </tr>\n",
              "    <tr>\n",
              "      <th>5</th>\n",
              "      <td>российский учёный рассказать о один из мощный ...</td>\n",
              "      <td>[земля, магнитный, буря, солнечный, вспышка, с...</td>\n",
              "      <td>[земля, солнце, магнитный, буря, магнитный, по...</td>\n",
              "      <td>[земля, солнце, вспышка, магнитный, поле, солн...</td>\n",
              "      <td>[мощный, магнитный, буря, полуночь, скачок, ув...</td>\n",
              "      <td>[солнечный, вспышка, солнце, земля, магнитный,...</td>\n",
              "      <td>[вспышка, земля, солнечный, максимальный, учён...</td>\n",
              "      <td>[максимальный удар, час ночь, спокойный значен...</td>\n",
              "      <td>[вспышка, солнце, земля, магнитная буре, го, п...</td>\n",
              "      <td>[вспышка, земля, учёный, солнце, год, сила, бу...</td>\n",
              "      <td>[Земля, Солнце, вспышка, магнитное поле, солне...</td>\n",
              "    </tr>\n",
              "    <tr>\n",
              "      <th>6</th>\n",
              "      <td>специалист красногорский завод они с а зверев ...</td>\n",
              "      <td>[зенит, прицел, снайперский, винтовка, стрелко...</td>\n",
              "      <td>[прицел, винтовка, снайперский, винттовка, дал...</td>\n",
              "      <td>[винтовка, снайперский, оружие, стрелковый, ор...</td>\n",
              "      <td>[специалист, красногорский, завод, торговый, м...</td>\n",
              "      <td>[новый, снайперский, прицел, кмз, позволять, г...</td>\n",
              "      <td>[прицел, новый, снайперский, винтовка, свч, по...</td>\n",
              "      <td>[тактический стрельба, качество основа, издели...</td>\n",
              "      <td>[год, оружие, винтовка свч, калашников, марка,...</td>\n",
              "      <td>[прицел, винтовка, свч, марка, изделие, оружие...</td>\n",
              "      <td>[винтовка, снайперское оружие, стрелковое оруж...</td>\n",
              "    </tr>\n",
              "    <tr>\n",
              "      <th>7</th>\n",
              "      <td>в всякий случай это единственный иметься объяс...</td>\n",
              "      <td>[акула, биология, ихтиология, рыба]</td>\n",
              "      <td>[акула, рыба, шкура, акулий, кожа, трение]</td>\n",
              "      <td>[рыба, акула, акулий, кожа, трение, ихтиология...</td>\n",
              "      <td>[единственный, иметься, объяснение, журнал, ec...</td>\n",
              "      <td>[акула, рыбий, свойство, акулий, кожа, вид, ры...</td>\n",
              "      <td>[акула, рыба, тереться, зуб, кожа, вид, трение...</td>\n",
              "      <td>[шёлковый акула, подводный дрон, лишний минута...</td>\n",
              "      <td>[акула, вид рыба, зуб, трение, морской хищник,...</td>\n",
              "      <td>[акула, рыба, зуб, кожа, вид, трение, зубчик, ...</td>\n",
              "      <td>[Рыбы, акулы, акулья кожа, трение, ихтиология,...</td>\n",
              "    </tr>\n",
              "    <tr>\n",
              "      <th>8</th>\n",
              "      <td>чтобы изучить строение ткань и орган живой орг...</td>\n",
              "      <td>[гистология, клетка, окрашивание, пурпур, эозин]</td>\n",
              "      <td>[гистология, краситель, клетка, окрашивание, т...</td>\n",
              "      <td>[клетка, пурпур, краситель, гистология, ткань,...</td>\n",
              "      <td>[изучить, строение, ткань, невозможно, различи...</td>\n",
              "      <td>[гистолог, краситель, гистология, клетка, преп...</td>\n",
              "      <td>[ткань, гистолог, цвет, срез, краситель, ядро,...</td>\n",
              "      <td>[тонкий срез, кожа волос, светокоррекция мочь,...</td>\n",
              "      <td>[гистолог, краситель гистология, клетка, препа...</td>\n",
              "      <td>[ткань, гистолог, цвет, срез, краситель, ядро,...</td>\n",
              "      <td>[клетки, пурпур, красители, гистология, ткани,...</td>\n",
              "    </tr>\n",
              "    <tr>\n",
              "      <th>9</th>\n",
              "      <td>анализ днк грызун типичный для скандинавия пок...</td>\n",
              "      <td>[археология, викинг, донный, отложение, колони...</td>\n",
              "      <td>[мышь, фекалия, архипелаг, остров, викинг]</td>\n",
              "      <td>[фекалия, мышь, колонизация, археология, остро...</td>\n",
              "      <td>[клад, якобы, обнаружить, карман, местный, жит...</td>\n",
              "      <td>[мышь, викинг, стать, статья, место, который, ...</td>\n",
              "      <td>[остров, мышь, викинг, азорский, место, год, а...</td>\n",
              "      <td>[азорский остров, плодородный земля, британски...</td>\n",
              "      <td>[мышь, викинг, статья, место, часть, земля, от...</td>\n",
              "      <td>[остров, мышь, викинг, место, год, архипелаг, ...</td>\n",
              "      <td>[фекалии, мыши, колонизация, археология, остро...</td>\n",
              "    </tr>\n",
              "    <tr>\n",
              "      <th>10</th>\n",
              "      <td>марсианский метеорит известный давно но кроме ...</td>\n",
              "      <td>[nasa, австралия, искусс, исследование, марс, ...</td>\n",
              "      <td>[марс, метеорит, земля, камень, кратер]</td>\n",
              "      <td>[австралия, исследование, марс, искусс, метеор...</td>\n",
              "      <td>[кроме, общий, сведение, непонятно, откуда, ко...</td>\n",
              "      <td>[кратер, марсианский, метеорит, марс, геологич...</td>\n",
              "      <td>[кратер, марсианский, метеорит, год, планета, ...</td>\n",
              "      <td>[красный планета, участие специалист, высокий ...</td>\n",
              "      <td>[кратер, марсианский метеорит, марс, камень, к...</td>\n",
              "      <td>[кратер, метеорит, год, планета, марс, поверхн...</td>\n",
              "      <td>[Австралия, исследование Марса, искусс, метеор...</td>\n",
              "    </tr>\n",
              "  </tbody>\n",
              "</table>\n",
              "</div>"
            ],
            "text/plain": [
              "                                                 text  ...                                         golden_pos\n",
              "0   исследователь из компания valisure обнаружить ...  ...  [канцерогены , рак, химикаты, дезодорант, канц...\n",
              "1   международный группа нейробиолог обнаружить ме...  ...  [иглоукалывание, акупунктура, надпочечники, ци...\n",
              "2   институт космический ведомство цниимаш заказат...  ...  [ракета, многоразовая ракета, Роскосмос, ступе...\n",
              "3   в состав твёрдый экзопланета доля железо мочь ...  ...  [астрономия, металличность, железо, экзопланет...\n",
              "4   учёный предложить метод с помощь который древе...  ...  [древесина, нож, целлюлоза, сталь, нержавеющая...\n",
              "5   российский учёный рассказать о один из мощный ...  ...  [Земля, Солнце, вспышка, магнитное поле, солне...\n",
              "6   специалист красногорский завод они с а зверев ...  ...  [винтовка, снайперское оружие, стрелковое оруж...\n",
              "7   в всякий случай это единственный иметься объяс...  ...  [Рыбы, акулы, акулья кожа, трение, ихтиология,...\n",
              "8   чтобы изучить строение ткань и орган живой орг...  ...  [клетки, пурпур, красители, гистология, ткани,...\n",
              "9   анализ днк грызун типичный для скандинавия пок...  ...  [фекалии, мыши, колонизация, археология, остро...\n",
              "10  марсианский метеорит известный давно но кроме ...  ...  [Австралия, исследование Марса, искусс, метеор...\n",
              "\n",
              "[11 rows x 11 columns]"
            ]
          },
          "metadata": {},
          "execution_count": 22
        }
      ]
    },
    {
      "cell_type": "markdown",
      "metadata": {
        "id": "dOkZ_TT9hxSN"
      },
      "source": [
        "# Метрики\n"
      ]
    },
    {
      "cell_type": "code",
      "metadata": {
        "id": "OxcjJpj6Nti9"
      },
      "source": [
        "def evaluate(method):\n",
        "  if method.endswith('_pos'):\n",
        "    golden = df['golden_pos']\n",
        "  else:\n",
        "    golden = df['golden']\n",
        "\n",
        "  predicted = df[method]\n",
        "\n",
        "  precision = []\n",
        "  recall = []\n",
        "  f1_score = []\n",
        "\n",
        "  for i in range(len(golden)):\n",
        "    prec = np.intersect1d(golden[i], predicted[i]).shape[0] / len(predicted[i])\n",
        "    rec = np.intersect1d(golden[i], predicted[i]).shape[0] / len(golden[i])\n",
        "   \n",
        "    if prec + rec != 0:\n",
        "      f1 = 2 * prec * rec / (prec + rec)\n",
        "    else:\n",
        "      f1 = 0\n",
        "    precision.append(prec)\n",
        "    recall.append(rec)\n",
        "    f1_score.append(f1)\n",
        "\n",
        "  return np.mean(precision), np.mean(recall), np.mean(f1_score)"
      ],
      "execution_count": 23,
      "outputs": []
    },
    {
      "cell_type": "code",
      "metadata": {
        "id": "htBeZ6escMxh"
      },
      "source": [
        "methods = 'rake_kw\ttextrank_kw\ttfidf_kw\trake_kw_pos\ttextrank_kw_pos\ttfidf_kw_pos'.split()\n",
        "metrics = {}\n",
        "for m in methods:\n",
        "  metrics[m] = evaluate(m)\n",
        "df_res = pd.DataFrame(metrics).T\n",
        "df_res.columns = ['precision', 'recall', 'f1 score']"
      ],
      "execution_count": 24,
      "outputs": []
    },
    {
      "cell_type": "code",
      "metadata": {
        "colab": {
          "base_uri": "https://localhost:8080/",
          "height": 235
        },
        "id": "KcQ9Pfuhdl-s",
        "outputId": "963c47c2-d952-40c9-ffe5-5d81406ea7ae"
      },
      "source": [
        "df_res"
      ],
      "execution_count": 25,
      "outputs": [
        {
          "output_type": "execute_result",
          "data": {
            "text/html": [
              "<div>\n",
              "<style scoped>\n",
              "    .dataframe tbody tr th:only-of-type {\n",
              "        vertical-align: middle;\n",
              "    }\n",
              "\n",
              "    .dataframe tbody tr th {\n",
              "        vertical-align: top;\n",
              "    }\n",
              "\n",
              "    .dataframe thead th {\n",
              "        text-align: right;\n",
              "    }\n",
              "</style>\n",
              "<table border=\"1\" class=\"dataframe\">\n",
              "  <thead>\n",
              "    <tr style=\"text-align: right;\">\n",
              "      <th></th>\n",
              "      <th>precision</th>\n",
              "      <th>recall</th>\n",
              "      <th>f1 score</th>\n",
              "    </tr>\n",
              "  </thead>\n",
              "  <tbody>\n",
              "    <tr>\n",
              "      <th>rake_kw</th>\n",
              "      <td>0.038540</td>\n",
              "      <td>0.481477</td>\n",
              "      <td>0.069744</td>\n",
              "    </tr>\n",
              "    <tr>\n",
              "      <th>textrank_kw</th>\n",
              "      <td>0.107999</td>\n",
              "      <td>0.539886</td>\n",
              "      <td>0.176973</td>\n",
              "    </tr>\n",
              "    <tr>\n",
              "      <th>tfidf_kw</th>\n",
              "      <td>0.195455</td>\n",
              "      <td>0.455323</td>\n",
              "      <td>0.268261</td>\n",
              "    </tr>\n",
              "    <tr>\n",
              "      <th>rake_kw_pos</th>\n",
              "      <td>0.022923</td>\n",
              "      <td>0.082576</td>\n",
              "      <td>0.032954</td>\n",
              "    </tr>\n",
              "    <tr>\n",
              "      <th>textrank_kw_pos</th>\n",
              "      <td>0.063598</td>\n",
              "      <td>0.147944</td>\n",
              "      <td>0.087599</td>\n",
              "    </tr>\n",
              "    <tr>\n",
              "      <th>tfidf_kw_pos</th>\n",
              "      <td>0.103628</td>\n",
              "      <td>0.200974</td>\n",
              "      <td>0.135436</td>\n",
              "    </tr>\n",
              "  </tbody>\n",
              "</table>\n",
              "</div>"
            ],
            "text/plain": [
              "                 precision    recall  f1 score\n",
              "rake_kw           0.038540  0.481477  0.069744\n",
              "textrank_kw       0.107999  0.539886  0.176973\n",
              "tfidf_kw          0.195455  0.455323  0.268261\n",
              "rake_kw_pos       0.022923  0.082576  0.032954\n",
              "textrank_kw_pos   0.063598  0.147944  0.087599\n",
              "tfidf_kw_pos      0.103628  0.200974  0.135436"
            ]
          },
          "metadata": {},
          "execution_count": 25
        }
      ]
    },
    {
      "cell_type": "markdown",
      "metadata": {
        "id": "lu7sjZUiiHEL"
      },
      "source": [
        "# Анализ\n",
        "\n",
        "Морфологические шаблоны снизили качество. Видимо, нужна доработка этих шаблонов и больше экспериментов. Также мне кажется сильно влияет специфика данных: в новосттях о науке часто используют разные слова и конструкции для описания одной и той же сущности, чтобы текст был читаем для человека. \n",
        "\n",
        "Лучше всего показал себя TF-IDF. Почему?\n",
        "Мне кажется, что авторы новостей хорошо постарались над ключевыми словами. Они скорее используются для навигации по статьям, а TF-IDF использовался в первых поисковых алгоритмах, поэтому результат такой.\n",
        "Хуже всего работает RAKE. \n",
        "\n",
        "Для улучшения я бы поработал над шаблонами. Также интересно было бы взять новости из одной тематики и смотреть, как они различаются/сходятся по ключевым словам. Вообще для новостей о науке нужно как-то выделять название организаций/структур/стран и имена ученых, сделать это на нескольких уровнях.\n",
        "\n",
        "Ну и конечно я бы сделал что-нибудь на модных нынче эмбеддингах: например, смотреть расстояние между эмбеддингами наших слов и текстов."
      ]
    }
  ]
}